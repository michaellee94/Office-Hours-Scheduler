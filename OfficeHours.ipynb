{
  "nbformat": 4,
  "nbformat_minor": 0,
  "metadata": {
    "colab": {
      "name": "OfficeHours.ipynb",
      "provenance": [],
      "collapsed_sections": []
    },
    "kernelspec": {
      "name": "python3",
      "display_name": "Python 3"
    }
  },
  "cells": [
    {
      "cell_type": "code",
      "metadata": {
        "id": "yKJSp6FY8ILG"
      },
      "source": [
        "# This script is designed to optimize weekly office hours according to a few\n",
        "# assumptions (four TAs, two consecutive weekly hours per TA, fixed professor\n",
        "# office hours, etc.). All of these assumptions are changeable as necessary."
      ],
      "execution_count": null,
      "outputs": []
    },
    {
      "cell_type": "code",
      "metadata": {
        "id": "nx1qfTC6CeVK"
      },
      "source": [
        "import itertools, requests, re, scipy.optimize\n",
        "from bs4 import BeautifulSoup\n",
        " \n",
        "BEN_SLOTS = set(itertools.chain(\n",
        "                range(36,52),                               #Ben - Sunday\n",
        "                range(132,192),                             #Ben - Monday\n",
        "                range(228,242),range(251,288),              #Ben - Tuesday\n",
        "                range(324,338),range(366,384),              #Ben - Wednesday\n",
        "                range(420,434),range(462,480),              #Ben - Thursday\n",
        "                range(516,576),                             #Ben - Friday\n",
        "                range(612,672)                              #Ben - Saturday\n",
        "                ))\n",
        "MICHAEL_SLOTS = set(itertools.chain(\n",
        "                list(),                                     #Michael - Sunday\n",
        "                range(144,192),                             #Michael - Monday\n",
        "                range(240,264),                             #Michael - Tuesday\n",
        "                range(340,384),                             #Michael - Wednesday\n",
        "                range(432,456),                             #Michael - Thursday\n",
        "                range(528,544),                             #Michael - Friday\n",
        "                list()                                      #Michael - Saturday\n",
        "                ))\n",
        "MOYI_SLOTS = set(itertools.chain(\n",
        "                list(),                                     #Moyi - Sunday\n",
        "                range(132,144),range(172,184),              #Moyi - Monday\n",
        "                range(228,240),range(264,280),              #Moyi - Tuesday\n",
        "                range(324,336),range(360,376),              #Moyi - Wednesday\n",
        "                range(420,432),range(456,472),              #Moyi - Thursday\n",
        "                range(516,528),range(552,568),              #Moyi - Friday\n",
        "                list()                                      #Moyi - Saturday\n",
        "                ))\n",
        "TERESSA_SLOTS = set(itertools.chain(\n",
        "                list(),                                     #Teressa - Sunday\n",
        "                range(140,160),                             #Teressa - Monday\n",
        "                list(),                                     #Teressa - Tuesday\n",
        "                range(332,352),                             #Teressa - Wednesday\n",
        "                list(),                                     #Teressa - Thursday\n",
        "                range(524,544),                             #Teressa - Friday\n",
        "                list()                                      #Teressa - Saturday\n",
        "                ))\n",
        "CLASS_TIME_SLOTS = set(itertools.chain(\n",
        "                range(228,234),                             #Tuesday class\n",
        "                range(420,426)                              #Thursday class\n",
        "                ))\n",
        "CARLY_HOURS = set(range(244,248))        #Carly's hours are Tuesday, 13:00-14:00\n",
        " \n",
        " \n",
        "def download_page(pageid):\n",
        "    '''\n",
        "    Downloads the results of a when2meet survey.\n",
        "\n",
        "    Arguments:\n",
        "        pageid (str): A string corresponding to a valid when2meet URL.\n",
        "    \n",
        "    Returns:\n",
        "        students (dict): A dict whose keys are IDs assigned by when2meet\n",
        "                         to student responses and whose values\n",
        "                         are the names associated to the responses.\n",
        "        slots (dict): A dict whose keys are numbers corresponding to 15-minute\n",
        "                      weekly times and whose values are lists of students who\n",
        "                      marked that they are available during those times.\n",
        "    '''\n",
        "    resp = requests.get(f'https://www.when2meet.com/?{pageid}')\n",
        "    soup = BeautifulSoup(resp.content, 'lxml')\n",
        "    soup_str = str(soup)\n",
        "    student_id_defs = re.findall('PeopleIDs\\[[0-9]+\\] = [0-9]+;', soup_str)\n",
        "    student_name_defs = re.findall('PeopleNames\\[[0-9]+\\] = .*?;', soup_str)\n",
        "    students_temp = dict()\n",
        "    for id_def in student_id_defs:\n",
        "        temp_num = int(id_def.split('[')[1].split(']')[0])\n",
        "        student_id = int(id_def.split('=')[1][1:-1])\n",
        "        students_temp[temp_num] = {'id': student_id}\n",
        "    for id_def in student_name_defs:\n",
        "        temp_num = int(id_def.split('[')[1].split(']')[0])\n",
        "        name = id_def.split('=')[1][2:-2]\n",
        "        students_temp[temp_num]['name'] = name\n",
        "    students = {temp['id']: temp['name'] for temp_num, temp in students_temp.items()}\n",
        "    slot_defs = re.findall('TimeOfSlot\\[[0-9]+\\]=[0-9]+;', soup_str)\n",
        "    pushes = re.findall('AvailableAtSlot\\[[0-9]+\\]\\.push\\([0-9]+\\);', soup_str)\n",
        "    slots = dict()\n",
        "    for i in {int(slot_def.split('[')[1].split(']')[0]) for slot_def in slot_defs}:\n",
        "        slots[i] = set()\n",
        "    for push in pushes:\n",
        "        slot = int(push.split('[')[1].split(']')[0])\n",
        "        student_id = int(push.split('(')[1].split(')')[0])\n",
        "        slots[slot].add(student_id)\n",
        "    for student in list(students):\n",
        "        if not [slot for slot, slot_students in slots.items() if student in slot_students]:\n",
        "            del students[student]\n",
        "    return students, slots\n",
        " \n",
        "def interpret_slot(slot):\n",
        "    '''\n",
        "    Helper function that takes a slot number per when2meet and converts it\n",
        "    to a human-readable time.\n",
        "    '''\n",
        "    day = slot // 96\n",
        "    time = slot % 96\n",
        "    days = [\n",
        "            'Sunday',\n",
        "            'Monday',\n",
        "            'Tuesday',\n",
        "            'Wednesday',\n",
        "            'Thursday',\n",
        "            'Friday',\n",
        "            'Saturday'\n",
        "            ]\n",
        "    hour = time // 4\n",
        "    minute = 15*(time % 4)\n",
        "    return f'{days[day]} at {hour}:{str(minute).zfill(2)}'\n",
        " \n",
        "def invert_slots(students, slots):\n",
        "    '''\n",
        "    In case respondents to a survey were instructed to mark their\n",
        "    unavailability instead of availability (such as in the case of the survey\n",
        "    for which I wrote this script), this function switches availabilities and\n",
        "    unavailabilities.\n",
        "\n",
        "    Arguments:\n",
        "        students (dict), slots (dict): See docstring for download_page.\n",
        "    \n",
        "    Returns:\n",
        "        new_slots (dict): A copy of the slots dict, but where each value is the\n",
        "                          complement of the corresponding value in slots.\n",
        "    '''\n",
        "    new_slots = dict()\n",
        "    student_ids = set(students.keys())\n",
        "    for slot in slots.keys():\n",
        "        new_slots[slot] = student_ids.difference(slots[slot])\n",
        "    return new_slots\n",
        " \n",
        "def points_eval(x):\n",
        "    '''\n",
        "    A numeric helper function for evaluate_hours that determines how much the\n",
        "    overlap between a particular student's availability and a set of office\n",
        "    hours is worth. Four 15-minute slots in the (n+1)th hour of a student's\n",
        "    overlap are weighted as much as one slot in the nth hour.\n",
        "    '''\n",
        "    c = x // 4\n",
        "    e = x % 4\n",
        "    return 16/3-1/3*4**(2-c)*(4**c-1)-e/4**c\n",
        " \n",
        "def evaluate_hours(hours, students, slots):\n",
        "    '''\n",
        "    Given a set of office hours slots and student availabilities, assigns a\n",
        "    corresponding number of points to each student based on the amount of\n",
        "    overlap between their availability and the office hours, and then sums the\n",
        "    \"values\" associated to these point totals by points_eval.\n",
        "\n",
        "    Arguments:\n",
        "        hours (list): A list of lists. Each member list contains the\n",
        "                            office hours slots of another TA.\n",
        "        students (dict), slots (dict): See the docstring for download_page.\n",
        "    \n",
        "    Returns:\n",
        "        point_total (float): The sum of points_eval applied to the points\n",
        "                             assigned to each student corresponding to the\n",
        "                             overlap between their availability and the office\n",
        "                             hours.\n",
        "        points (dict): A dict whose keys are the student IDs of the students in\n",
        "                       the students dict and whose values are the points\n",
        "                       assigned to them.\n",
        "    '''\n",
        "    points = {student: 0 for student in students}\n",
        "    for slot, slot_students in slots.items():\n",
        "        if ([ta for ta in hours if slot in ta] and slot not in CLASS_TIME_SLOTS) \\\n",
        "        or slot in CARLY_HOURS:\n",
        "            if 426 <= slot < 576:\n",
        "                # Office hours on Thursday and Friday (i.e. right after\n",
        "                # assignments are due) are worth much less.\n",
        "                point_val = 0.5\n",
        "            elif slot >= 576:\n",
        "                # Office hours on Saturday are worth a little less.\n",
        "                point_val = 0.75\n",
        "            else:\n",
        "                point_val = 1\n",
        "            for student in slot_students:\n",
        "                points[student] += point_val\n",
        "    return sum(points_eval(x) for student, x in points.items()), points\n",
        " \n",
        "def objective(staff, students, slots):\n",
        "    '''\n",
        "    Leverages evaluate_hours into the format required for scipy's\n",
        "    dual_annealing function to optimize over possible office hours\n",
        "    configurations.\n",
        "\n",
        "    Arguments:\n",
        "        staff (list): A list of slots, corresponding to the first 15-minute\n",
        "                      slots of each of the TA's weekly hours.\n",
        "        students (dict), slots (dict): See docstring for download_page.\n",
        "    \n",
        "    Returns:\n",
        "        point_total (float): The number of points returned by evaluate_hours\n",
        "                             when applied to the hours determined by staff.\n",
        "    '''\n",
        "    ben = int(staff[0])\n",
        "    michael = int(staff[1])\n",
        "    moyi = int(staff[2])\n",
        "    teressa = int(staff[3])\n",
        "    hours = [\n",
        "             # We assume everyone works two full consecutive hours.\n",
        "             {i % 672 for i in range(ben,ben+8) if i in BEN_SLOTS},\n",
        "             {i % 672 for i in range(michael,michael+8) if i in MICHAEL_SLOTS},\n",
        "             {i % 672 for i in range(moyi,moyi+8) if i in MOYI_SLOTS},\n",
        "             {i % 672 for i in range(teressa,teressa+8) if i in TERESSA_SLOTS},\n",
        "            ]\n",
        "    return evaluate_hours(hours, students, slots)[0]\n",
        " \n",
        "def optimize_hours(students, slots):\n",
        "    '''\n",
        "    Uses scipy's dual_annealing function to optimize objective.\n",
        "\n",
        "    Arguments:\n",
        "        students (dict), slots (dict): See docstring for download_page.\n",
        "\n",
        "    Returns:\n",
        "        results (OptimizeResult): See docstring for\n",
        "                                  scipy.optimize.dual_annealing.\n",
        "    '''\n",
        "    results = scipy.optimize.dual_annealing(objective, [(0,672)]*4,\n",
        "                                            args=(students, slots),\n",
        "                                            maxiter=5000,\n",
        "                                            initial_temp=50000)\n",
        "    x = results['x']\n",
        "    result_slots = [interpret_slot(int(i)) for i in x]\n",
        "    print(f'Value of objective function is {results[\"fun\"]}')\n",
        "    print(f'Ben works {result_slots[0]}')\n",
        "    print(f'Michael works {result_slots[1]}')\n",
        "    print(f'Moyi works {result_slots[2]}')\n",
        "    print(f'Teressa works {result_slots[3]}')\n",
        "    return results"
      ],
      "execution_count": null,
      "outputs": []
    },
    {
      "cell_type": "code",
      "metadata": {
        "id": "M1JaHXTSCfvp"
      },
      "source": [
        "students, slots = download_page('9735283-FkhoO')"
      ],
      "execution_count": null,
      "outputs": []
    },
    {
      "cell_type": "code",
      "metadata": {
        "id": "9pygCAzBCnph"
      },
      "source": [
        "slots = invert_slots(students, slots)"
      ],
      "execution_count": null,
      "outputs": []
    },
    {
      "cell_type": "code",
      "metadata": {
        "id": "M1woXGD_KiSS"
      },
      "source": [
        "students_who_filled_out_the_form_in_reverse = [\n",
        "                                               42402232,\n",
        "                                               42449648,\n",
        "                                               42420741,\n",
        "                                               42607415\n",
        "                                              ]\n",
        "for slot in slots.keys():\n",
        "    for student in students_who_filled_out_the_form_in_reverse:\n",
        "        if student in slots[slot]:\n",
        "            slots[slot] = slots[slot].difference({student})\n",
        "        else:\n",
        "            slots[slot].add(student)"
      ],
      "execution_count": null,
      "outputs": []
    },
    {
      "cell_type": "code",
      "metadata": {
        "id": "7YkOgKa0Cp8v",
        "outputId": "63881616-6a92-43c2-f40d-0a76dea63856",
        "colab": {
          "base_uri": "https://localhost:8080/",
          "height": 102
        }
      },
      "source": [
        "results = optimize_hours(students, slots)"
      ],
      "execution_count": null,
      "outputs": [
        {
          "output_type": "stream",
          "text": [
            "Value of objective function is 1.4838612874348769\n",
            "Ben works Tuesday at 10:30\n",
            "Michael works Wednesday at 16:00\n",
            "Moyi works Tuesday at 19:30\n",
            "Teressa works Monday at 11:30\n"
          ],
          "name": "stdout"
        }
      ]
    },
    {
      "cell_type": "code",
      "metadata": {
        "id": "mizILBRiBeGe"
      },
      "source": [
        "staff = results['x']"
      ],
      "execution_count": null,
      "outputs": []
    },
    {
      "cell_type": "code",
      "metadata": {
        "id": "G2lSo2JuBl6W"
      },
      "source": [
        "ben = int(staff[0])\n",
        "michael = int(staff[1])\n",
        "moyi = int(staff[2])\n",
        "teressa = int(staff[3])\n",
        "hours = [\n",
        "               {i for i in range(ben,ben+8) if i in BEN_SLOTS},\n",
        "               {i for i in range(michael,michael+8) if i in MICHAEL_SLOTS},\n",
        "               {i for i in range(moyi,moyi+8) if i in MOYI_SLOTS},\n",
        "               {i for i in range(teressa,teressa+8) if i in TERESSA_SLOTS},\n",
        "              ]\n",
        "test, test_points = evaluate_hours(hours, students, slots)"
      ],
      "execution_count": null,
      "outputs": []
    },
    {
      "cell_type": "code",
      "metadata": {
        "id": "O9Jdb9frBvBG",
        "outputId": "e6728a1b-a519-426d-cd6b-04c55bb235a1",
        "colab": {
          "base_uri": "https://localhost:8080/",
          "height": 528
        }
      },
      "source": [
        "import matplotlib.pyplot as plt\n",
        "fig = plt.figure(figsize=(8,8))\n",
        "axis = plt.gca()\n",
        "bins = [i-0.5 for i in range(1,max(test_points.values()))]\n",
        "axis.hist(test_points.values(), bins=bins)\n",
        "axis.set_title('Points Associated to Students\\n'+\\\n",
        "               'Based on Availability Overlap with Office Hours')\n",
        "axis.set_xlabel('Points')\n",
        "axis.set_ylabel('Number of students')\n",
        "xlim = axis.get_xlim()\n",
        "axis.set_xlim(0, xlim[1]);"
      ],
      "execution_count": null,
      "outputs": [
        {
          "output_type": "display_data",
          "data": {
            "image/png": "[encoded data removed]",
            "text/plain": [
              "<Figure size 576x576 with 1 Axes>"
            ]
          },
          "metadata": {
            "tags": [],
            "needs_background": "light"
          }
        }
      ]
    },
    {
      "cell_type": "code",
      "metadata": {
        "id": "zIHqoLrMGXrE",
        "outputId": "5a157dc8-cfa7-4f92-86da-e5041458bdb4",
        "colab": {
          "base_uri": "https://localhost:8080/",
          "height": 34
        }
      },
      "source": [
        "from statistics import mean\n",
        "[min(test_points.values()), mean(test_points.values())]"
      ],
      "execution_count": null,
      "outputs": [
        {
          "output_type": "execute_result",
          "data": {
            "text/plain": [
              "[8, 23.953125]"
            ]
          },
          "metadata": {
            "tags": []
          },
          "execution_count": 30
        }
      ]
    },
    {
      "cell_type": "code",
      "metadata": {
        "id": "ePhh2NuNuBvm"
      },
      "source": [
        "# Every student can attend the equivalent of at least two full hours.\n",
        "# The average student can attend almost six full hours."
      ],
      "execution_count": null,
      "outputs": []
    }
  ]
}
