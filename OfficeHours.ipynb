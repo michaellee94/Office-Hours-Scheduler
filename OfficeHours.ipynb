{
  "nbformat": 4,
  "nbformat_minor": 0,
  "metadata": {
    "colab": {
      "name": "OfficeHours.ipynb",
      "provenance": [],
      "collapsed_sections": []
    },
    "kernelspec": {
      "name": "python3",
      "display_name": "Python 3"
    }
  },
  "cells": [
    {
      "cell_type": "code",
      "metadata": {
        "id": "nx1qfTC6CeVK"
      },
      "source": [
        "import itertools, requests, re, scipy.optimize\n",
        "from bs4 import BeautifulSoup\n",
        " \n",
        "BEN_SLOTS = set(itertools.chain(\n",
        "                range(36,52),                                                   #Ben - Sunday\n",
        "                range(132,192),                                                 #Ben - Monday\n",
        "                range(228,242),range(251,288),                                  #Ben - Tuesday\n",
        "                range(324,338),range(366,384),                                  #Ben - Wednesday\n",
        "                range(420,434),range(462,480),                                  #Ben - Thursday\n",
        "                range(516,576),                                                 #Ben - Friday\n",
        "                range(612,672)                                                  #Ben - Saturday\n",
        "                ))\n",
        "MICHAEL_SLOTS = set(itertools.chain(\n",
        "                list(),                                                         #Michael - Sunday\n",
        "                range(144,192),                                                 #Michael - Monday\n",
        "                range(240,264),                                                 #Michael - Tuesday\n",
        "                range(340,384),                                                 #Michael - Wednesday\n",
        "                range(432,456),                                                 #Michael - Thursday\n",
        "                range(528,544),                                                 #Michael - Friday\n",
        "                list()                                                          #Michael - Saturday\n",
        "                ))\n",
        "MOYI_SLOTS = set(itertools.chain(\n",
        "                list(),                                                         #Moyi - Sunday\n",
        "                range(132,144),range(172,184),                                  #Moyi - Monday\n",
        "                range(228,240),range(264,280),                                  #Moyi - Tuesday\n",
        "                range(324,336),range(360,376),                                  #Moyi - Wednesday\n",
        "                range(420,432),range(456,472),                                  #Moyi - Thursday\n",
        "                range(516,528),range(552,568),                                  #Moyi - Friday\n",
        "                list()                                                          #Moyi - Saturday\n",
        "                ))\n",
        "TERESSA_SLOTS = set(itertools.chain(\n",
        "                list(),                                                         #Teressa - Sunday\n",
        "                range(140,160),                                                 #Teressa - Monday\n",
        "                list(),                                                         #Teressa - Tuesday\n",
        "                range(332,352),                                                 #Teressa - Wednesday\n",
        "                list(),                                                         #Teressa - Thursday\n",
        "                range(524,544),                                                 #Teressa - Friday\n",
        "                list()                                                          #Teressa - Saturday\n",
        "                ))\n",
        "CLASS_TIME_SLOTS = set(itertools.chain(\n",
        "                range(228,234),                                                 #Tuesday class\n",
        "                range(420,426)                                                  #Thursday class\n",
        "                ))\n",
        "CARLY_HOURS = set(range(244,248))                                               #Carly's hours are Tuesday, 13:00-14:00\n",
        " \n",
        " \n",
        "def download_page(pageid):\n",
        "    resp = requests.get(f'https://www.when2meet.com/?{pageid}')\n",
        "    soup = BeautifulSoup(resp.content, 'lxml')\n",
        "    soup_str = str(soup)\n",
        "    student_id_defs = re.findall('PeopleIDs\\[[0-9]+\\] = [0-9]+;', soup_str)\n",
        "    student_name_defs = re.findall('PeopleNames\\[[0-9]+\\] = .*?;', soup_str)\n",
        "    students_temp = dict()\n",
        "    for id_def in student_id_defs:\n",
        "        temp_num = int(id_def.split('[')[1].split(']')[0])\n",
        "        student_id = int(id_def.split('=')[1][1:-1])\n",
        "        students_temp[temp_num] = {'id': student_id}\n",
        "    for id_def in student_name_defs:\n",
        "        temp_num = int(id_def.split('[')[1].split(']')[0])\n",
        "        name = id_def.split('=')[1][2:-2]\n",
        "        students_temp[temp_num]['name'] = name\n",
        "    students = {temp['id']: temp['name'] for temp_num, temp in students_temp.items()}\n",
        "    slot_defs = re.findall('TimeOfSlot\\[[0-9]+\\]=[0-9]+;', soup_str)\n",
        "    pushes = re.findall('AvailableAtSlot\\[[0-9]+\\]\\.push\\([0-9]+\\);', soup_str)\n",
        "    slots = dict()\n",
        "    for i in {int(slot_def.split('[')[1].split(']')[0]) for slot_def in slot_defs}:\n",
        "        slots[i] = set()\n",
        "    for push in pushes:\n",
        "        slot = int(push.split('[')[1].split(']')[0])\n",
        "        student_id = int(push.split('(')[1].split(')')[0])\n",
        "        slots[slot].add(student_id)\n",
        "    for student in list(students):\n",
        "        if not [slot for slot, slot_students in slots.items() if student in slot_students]:\n",
        "            del students[student]\n",
        "    return students, slots\n",
        " \n",
        "def interpret_slot(slot):\n",
        "    day = slot // 96\n",
        "    time = slot % 96\n",
        "    days = [\n",
        "            'Sunday',\n",
        "            'Monday',\n",
        "            'Tuesday',\n",
        "            'Wednesday',\n",
        "            'Thursday',\n",
        "            'Friday',\n",
        "            'Saturday'\n",
        "            ]\n",
        "    hour = time // 4\n",
        "    minute = 15*(time % 4)\n",
        "    return f'{days[day]} at {hour}:{str(minute).zfill(2)}'\n",
        " \n",
        "def invert_slots(students, slots):                                              #Because I asked students to mark when they're unavailable.\n",
        "    new_slots = dict()\n",
        "    student_ids = set(students.keys())\n",
        "    for slot in slots.keys():\n",
        "        new_slots[slot] = student_ids.difference(slots[slot])\n",
        "    return new_slots\n",
        " \n",
        "def points_eval(x):\n",
        "    c = x // 4                                                                  #Number of complete hours at full valuation that a student can attend.\n",
        "    e = x % 4                                                                   #Number of 15-minute slots at full valuation beyond c hours that a student can attend.\n",
        "    return 16/3-1/3*4**(2-c)*(4**c-1)-e/4**c                                    #Four 15-minute slots in the second hour are weighted as much as one slot in the first hour, etc.\n",
        " \n",
        "def evaluate_hours(hours_slots, students, student_slots):\n",
        "    points = {student: 0 for student in students}\n",
        "    for slot, slot_students in student_slots.items():\n",
        "        if ([hours for hours in hours_slots if slot in hours] and slot not in CLASS_TIME_SLOTS) \\\n",
        "        or slot in CARLY_HOURS:\n",
        "            if 426 <= slot < 576:\n",
        "                point_val = 0.5                                                 #Office hours on Thursday and Friday (i.e. right after assignments are due) are worth much less.\n",
        "            elif slot >= 576:\n",
        "                point_val = 0.75                                                #Office hours on Saturday are worth a little less.\n",
        "            else:\n",
        "                point_val = 1\n",
        "            for student in slot_students:\n",
        "                points[student] += point_val\n",
        "    return sum(points_eval(x) for student, x in points.items()), points\n",
        " \n",
        "def objective(staff, students, student_slots):\n",
        "    ben = int(staff[0])\n",
        "    michael = int(staff[1])\n",
        "    moyi = int(staff[2])\n",
        "    teressa = int(staff[3])\n",
        "    hours_slots = [\n",
        "                   {i % 672 for i in range(ben,ben+8) if i in BEN_SLOTS},             #Assuming everyone gives two full consecutive hours.\n",
        "                   {i % 672 for i in range(michael,michael+8) if i in MICHAEL_SLOTS},\n",
        "                   {i % 672 for i in range(moyi,moyi+8) if i in MOYI_SLOTS},\n",
        "                   {i % 672 for i in range(teressa,teressa+8) if i in TERESSA_SLOTS},\n",
        "                  ]\n",
        "    return evaluate_hours(hours_slots, students, student_slots)[0]\n",
        " \n",
        "def optimize_hours(students, student_slots):\n",
        "    results = scipy.optimize.dual_annealing(objective, [(0,672)]*4,\n",
        "                                            args=(students, student_slots),\n",
        "                                            maxiter=5000,\n",
        "                                            initial_temp=50000)\n",
        "    x = results['x']\n",
        "    result_slots = [interpret_slot(int(i)) for i in x]\n",
        "    print(f'Value of objective function is {results[\"fun\"]}')\n",
        "    print(f'Ben works {result_slots[0]}')\n",
        "    print(f'Michael works {result_slots[1]}')\n",
        "    print(f'Moyi works {result_slots[2]}')\n",
        "    print(f'Teressa works {result_slots[3]}')\n",
        "    return results"
      ],
      "execution_count": null,
      "outputs": []
    },
    {
      "cell_type": "code",
      "metadata": {
        "id": "M1JaHXTSCfvp"
      },
      "source": [
        "students, slots = download_page('9735283-FkhoO')"
      ],
      "execution_count": null,
      "outputs": []
    },
    {
      "cell_type": "code",
      "metadata": {
        "id": "9pygCAzBCnph"
      },
      "source": [
        "slots = invert_slots(students, slots)"
      ],
      "execution_count": null,
      "outputs": []
    },
    {
      "cell_type": "code",
      "metadata": {
        "id": "M1woXGD_KiSS"
      },
      "source": [
        "students_who_filled_out_the_form_in_reverse = [42402232,42449648,42420741,42607415]"
      ],
      "execution_count": null,
      "outputs": []
    },
    {
      "cell_type": "code",
      "metadata": {
        "id": "GR6_5y9GKwyU"
      },
      "source": [
        "for slot in slots.keys():\n",
        "    for student in students_who_filled_out_the_form_in_reverse:\n",
        "        if student in slots[slot]:\n",
        "            slots[slot] = slots[slot].difference({student})\n",
        "        else:\n",
        "            slots[slot].add(student)"
      ],
      "execution_count": null,
      "outputs": []
    },
    {
      "cell_type": "code",
      "metadata": {
        "id": "7YkOgKa0Cp8v",
        "outputId": "0241c558-a386-4b63-dc12-c3cd933a6e70",
        "colab": {
          "base_uri": "https://localhost:8080/",
          "height": 123
        }
      },
      "source": [
        "results = optimize_hours(students, slots)"
      ],
      "execution_count": null,
      "outputs": [
        {
          "output_type": "stream",
          "text": [
            "Value of objective function is 1.1472066243489403\n",
            "Ben works Sunday at 10:00\n",
            "Michael works Wednesday at 16:00\n",
            "Moyi works Tuesday at 19:30\n",
            "Teressa works Monday at 11:00\n"
          ],
          "name": "stdout"
        }
      ]
    },
    {
      "cell_type": "code",
      "metadata": {
        "id": "mizILBRiBeGe"
      },
      "source": [
        "staff = results['x']"
      ],
      "execution_count": null,
      "outputs": []
    },
    {
      "cell_type": "code",
      "metadata": {
        "id": "G2lSo2JuBl6W"
      },
      "source": [
        "ben = int(staff[0])\n",
        "michael = int(staff[1])\n",
        "moyi = int(staff[2])\n",
        "teressa = int(staff[3])\n",
        "hours_slots = [\n",
        "               {i for i in range(ben,ben+8) if i in BEN_SLOTS},                 #Assuming everyone gives two full consecutive hours.\n",
        "               {i for i in range(michael,michael+8) if i in MICHAEL_SLOTS},\n",
        "               {i for i in range(moyi,moyi+8) if i in MOYI_SLOTS},\n",
        "               {i for i in range(teressa,teressa+8) if i in TERESSA_SLOTS},\n",
        "              ]"
      ],
      "execution_count": null,
      "outputs": []
    },
    {
      "cell_type": "code",
      "metadata": {
        "id": "6ZlF_u8IBqI-"
      },
      "source": [
        "test, test_points = evaluate_hours(hours_slots, students, slots)"
      ],
      "execution_count": null,
      "outputs": []
    },
    {
      "cell_type": "code",
      "metadata": {
        "id": "O9Jdb9frBvBG",
        "outputId": "2fd0d859-110c-417d-bc67-368988050d53",
        "colab": {
          "base_uri": "https://localhost:8080/",
          "height": 1000
        }
      },
      "source": [
        "test_points"
      ],
      "execution_count": null,
      "outputs": [
        {
          "output_type": "execute_result",
          "data": {
            "text/plain": [
              "{42400247: 34,\n",
              " 42400574: 20,\n",
              " 42400647: 20,\n",
              " 42400805: 20,\n",
              " 42400866: 32,\n",
              " 42401075: 28,\n",
              " 42401946: 31,\n",
              " 42402232: 24,\n",
              " 42404193: 32,\n",
              " 42405286: 32,\n",
              " 42405369: 26,\n",
              " 42405673: 18,\n",
              " 42405728: 32,\n",
              " 42405775: 28,\n",
              " 42406224: 30,\n",
              " 42412318: 32,\n",
              " 42412390: 26,\n",
              " 42418010: 20,\n",
              " 42418990: 36,\n",
              " 42419241: 28,\n",
              " 42420741: 10,\n",
              " 42420965: 20,\n",
              " 42425050: 28,\n",
              " 42428223: 32,\n",
              " 42428239: 28,\n",
              " 42429302: 20,\n",
              " 42431134: 30,\n",
              " 42435718: 8,\n",
              " 42437804: 22,\n",
              " 42438596: 18,\n",
              " 42439236: 26,\n",
              " 42442004: 28,\n",
              " 42449369: 12,\n",
              " 42449648: 10,\n",
              " 42450134: 18,\n",
              " 42453032: 34,\n",
              " 42469805: 24,\n",
              " 42473708: 24,\n",
              " 42477910: 22,\n",
              " 42488634: 16,\n",
              " 42497985: 28,\n",
              " 42499681: 32,\n",
              " 42500330: 32,\n",
              " 42500331: 32,\n",
              " 42500344: 34,\n",
              " 42500352: 20,\n",
              " 42500846: 28,\n",
              " 42500959: 28,\n",
              " 42502078: 32,\n",
              " 42502471: 22,\n",
              " 42503089: 14,\n",
              " 42508171: 32,\n",
              " 42527201: 20,\n",
              " 42551553: 24,\n",
              " 42594987: 20,\n",
              " 42600980: 24,\n",
              " 42603551: 24,\n",
              " 42607415: 36,\n",
              " 42609992: 6,\n",
              " 42615203: 32,\n",
              " 42617084: 20}"
            ]
          },
          "metadata": {
            "tags": []
          },
          "execution_count": 21
        }
      ]
    },
    {
      "cell_type": "code",
      "metadata": {
        "id": "zIHqoLrMGXrE",
        "outputId": "a452dfa8-a00a-4582-d6a7-86381e974f4c",
        "colab": {
          "base_uri": "https://localhost:8080/",
          "height": 34
        }
      },
      "source": [
        "from statistics import mean; [min(test_points.values()), mean(test_points.values())]"
      ],
      "execution_count": null,
      "outputs": [
        {
          "output_type": "execute_result",
          "data": {
            "text/plain": [
              "[8, 25.0327868852459]"
            ]
          },
          "metadata": {
            "tags": []
          },
          "execution_count": 11
        }
      ]
    }
  ]
}